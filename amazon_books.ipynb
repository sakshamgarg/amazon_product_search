{
 "cells": [
  {
   "cell_type": "code",
   "execution_count": 1,
   "id": "a6176a99",
   "metadata": {},
   "outputs": [],
   "source": [
    "import pandas as pd\n",
    "from pyspark.sql import SparkSession\n",
    "from elasticsearch import Elasticsearch, helpers\n",
    "from pyspark.ml.recommendation import ALS, ALSModel\n",
    "from pyspark.ml.feature import StringIndexer\n",
    "from pyspark.sql.functions import col\n",
    "import uuid"
   ]
  },
  {
   "cell_type": "code",
   "execution_count": null,
   "id": "69e2a721",
   "metadata": {},
   "outputs": [],
   "source": [
    "!pip freeze|grep "
   ]
  },
  {
   "cell_type": "code",
   "execution_count": 2,
   "id": "a1557fa8",
   "metadata": {},
   "outputs": [
    {
     "name": "stderr",
     "output_type": "stream",
     "text": [
      "Setting default log level to \"WARN\".\n",
      "To adjust logging level use sc.setLogLevel(newLevel). For SparkR, use setLogLevel(newLevel).\n",
      "22/12/08 04:49:54 INFO org.apache.spark.SparkEnv: Registering MapOutputTracker\n",
      "22/12/08 04:49:54 INFO org.apache.spark.SparkEnv: Registering BlockManagerMaster\n",
      "22/12/08 04:49:54 INFO org.apache.spark.SparkEnv: Registering BlockManagerMasterHeartbeat\n",
      "22/12/08 04:49:54 INFO org.apache.spark.SparkEnv: Registering OutputCommitCoordinator\n"
     ]
    }
   ],
   "source": [
    "spark = SparkSession.builder.config(\"spark.submit.deployMode\",\"client\").getOrCreate()"
   ]
  },
  {
   "cell_type": "code",
   "execution_count": 3,
   "id": "64775b0f",
   "metadata": {},
   "outputs": [],
   "source": [
    "sc = spark.sparkContext"
   ]
  },
  {
   "cell_type": "code",
   "execution_count": 6,
   "id": "53ac84fb",
   "metadata": {},
   "outputs": [
    {
     "data": {
      "text/plain": [
       "{'MKL_NUM_THREADS': '1', 'OPENBLAS_NUM_THREADS': '1', 'PYTHONHASHSEED': '0'}"
      ]
     },
     "execution_count": 6,
     "metadata": {},
     "output_type": "execute_result"
    }
   ],
   "source": []
  },
  {
   "cell_type": "code",
   "execution_count": null,
   "id": "5b630e35",
   "metadata": {},
   "outputs": [],
   "source": [
    "raw_reviews = spark.read.json('project/Books.json')\n",
    "raw_reviews.count()"
   ]
  },
  {
   "cell_type": "code",
   "execution_count": null,
   "id": "5964727c",
   "metadata": {},
   "outputs": [],
   "source": [
    "raw_reviews"
   ]
  },
  {
   "cell_type": "code",
   "execution_count": null,
   "id": "dabb8b23",
   "metadata": {},
   "outputs": [],
   "source": [
    "raw_metadata = spark.read.json('project/meta_Books.json')\n",
    "raw_metadata.count()"
   ]
  },
  {
   "cell_type": "code",
   "execution_count": null,
   "id": "97aecf67",
   "metadata": {},
   "outputs": [],
   "source": [
    "raw_metadata"
   ]
  },
  {
   "cell_type": "code",
   "execution_count": null,
   "id": "5704a437",
   "metadata": {},
   "outputs": [],
   "source": [
    "metadata = raw_metadata.select('asin', 'title', 'description', 'brand')"
   ]
  },
  {
   "cell_type": "code",
   "execution_count": null,
   "id": "b1f0ef54",
   "metadata": {},
   "outputs": [],
   "source": [
    "raw_reviews.createOrReplaceTempView(\"view_raw_reviews\")"
   ]
  },
  {
   "cell_type": "code",
   "execution_count": null,
   "id": "92942b82",
   "metadata": {},
   "outputs": [],
   "source": [
    "reviews_filtered = spark.sql(\"select asin, reviewerId, overall from\\\n",
    "                            (select *, count(*) over (partition by reviewerId) as c\\\n",
    "                            from view_raw_reviews) where c >= 5\")"
   ]
  },
  {
   "cell_type": "code",
   "execution_count": null,
   "id": "193dce6e",
   "metadata": {},
   "outputs": [],
   "source": [
    "reviews_filtered.write.option(\"header\",True).csv(\"project/reviews_filtered\")"
   ]
  },
  {
   "cell_type": "code",
   "execution_count": null,
   "id": "14a3ff4e",
   "metadata": {},
   "outputs": [],
   "source": [
    "reviews_filtered = spark.read.option(\"header\", True).csv(\"project/reviews_filtered\")"
   ]
  },
  {
   "cell_type": "code",
   "execution_count": null,
   "id": "fa268b80",
   "metadata": {},
   "outputs": [],
   "source": [
    "reviews_filtered.count()"
   ]
  },
  {
   "cell_type": "code",
   "execution_count": null,
   "id": "86882047",
   "metadata": {},
   "outputs": [],
   "source": [
    "stringindexer = StringIndexer().setInputCol(\"reviewerId\").setOutputCol(\"reviewerIdIdx\")\n",
    "model_reviewerId = stringindexer.fit(reviews_filtered)"
   ]
  },
  {
   "cell_type": "code",
   "execution_count": null,
   "id": "a9cb5078",
   "metadata": {},
   "outputs": [],
   "source": [
    "reviews_filtered_transformed = model_reviewerId.transform(reviews_filtered)"
   ]
  },
  {
   "cell_type": "code",
   "execution_count": null,
   "id": "43b3876b",
   "metadata": {},
   "outputs": [],
   "source": [
    "stringindexer = StringIndexer().setInputCol(\"asin\").setOutputCol(\"asinIdx\")\n",
    "model_asin = stringindexer.fit(reviews_filtered_transformed)"
   ]
  },
  {
   "cell_type": "code",
   "execution_count": null,
   "id": "1d084c62",
   "metadata": {},
   "outputs": [],
   "source": [
    "reviews_filtered_transformed = model_asin.transform(reviews_filtered_transformed)"
   ]
  },
  {
   "cell_type": "code",
   "execution_count": null,
   "id": "985121b6",
   "metadata": {},
   "outputs": [],
   "source": [
    "stringindexer = StringIndexer().setInputCol(\"asin\").setOutputCol(\"asinIdx\")\n",
    "model_asin = stringindexer.fit(metadata)\n",
    "metadata_transformed = model_asin.transform(metadata)"
   ]
  },
  {
   "cell_type": "code",
   "execution_count": null,
   "id": "b97ea587",
   "metadata": {},
   "outputs": [],
   "source": [
    "reviews_filtered_transformed = reviews_filtered_transformed\\\n",
    "                                .withColumn(\"reviewerIdIdx\", col(\"reviewerIdIdx\").cast('int'))\\\n",
    "                                .withColumn(\"asinIdx\", col(\"asinIdx\").cast('int'))\\\n",
    "                                .withColumn(\"overall\", col(\"overall\").cast('float'))"
   ]
  },
  {
   "cell_type": "code",
   "execution_count": null,
   "id": "00b72be6",
   "metadata": {},
   "outputs": [],
   "source": [
    "reviews_filtered_transformed.printSchema()"
   ]
  },
  {
   "cell_type": "code",
   "execution_count": null,
   "id": "98fd27e1",
   "metadata": {},
   "outputs": [],
   "source": [
    "reviews_filtered_transformed.write.option(\"header\", True).csv(\"project/reviews_filtered_transformed\")"
   ]
  },
  {
   "cell_type": "code",
   "execution_count": null,
   "id": "346952b1",
   "metadata": {},
   "outputs": [],
   "source": [
    "reviews_filtered_transformed = spark.read.csv(\"project/reviews_filtered_transformed\", inferSchema=True, header=True)"
   ]
  },
  {
   "cell_type": "code",
   "execution_count": null,
   "id": "78816248",
   "metadata": {},
   "outputs": [],
   "source": [
    "reviews_filtered_transformed.printSchema()"
   ]
  },
  {
   "cell_type": "code",
   "execution_count": null,
   "id": "75914500",
   "metadata": {},
   "outputs": [],
   "source": [
    "reviews_filtered_transformed.count()"
   ]
  },
  {
   "cell_type": "code",
   "execution_count": null,
   "id": "a8860929",
   "metadata": {},
   "outputs": [],
   "source": [
    "reviews_filtered_transformed.show(20)"
   ]
  },
  {
   "cell_type": "code",
   "execution_count": null,
   "id": "0c52fa84",
   "metadata": {},
   "outputs": [],
   "source": [
    "(training, validation) = reviews_filtered_transformed.randomSplit([0.8, 0.2])"
   ]
  },
  {
   "cell_type": "code",
   "execution_count": null,
   "id": "c64d3d57",
   "metadata": {},
   "outputs": [],
   "source": [
    "als = ALS(maxIter=10, regParam=0.05, rank=48, userCol=\"reviewerIdIdx\", itemCol=\"asinIdx\", ratingCol=\"overall\",\n",
    "          coldStartStrategy=\"drop\")"
   ]
  },
  {
   "cell_type": "code",
   "execution_count": null,
   "id": "85a0e026",
   "metadata": {},
   "outputs": [],
   "source": [
    "model = als.fit(training)"
   ]
  },
  {
   "cell_type": "code",
   "execution_count": null,
   "id": "6a710635",
   "metadata": {},
   "outputs": [],
   "source": [
    "model.save(\"project/als_model\")"
   ]
  },
  {
   "cell_type": "code",
   "execution_count": null,
   "id": "9b5463ee",
   "metadata": {},
   "outputs": [],
   "source": [
    "model = ALSModel.load(\"project/als_model\")"
   ]
  },
  {
   "cell_type": "code",
   "execution_count": null,
   "id": "3b38b38b",
   "metadata": {},
   "outputs": [],
   "source": [
    "itemfactors = spark.createDataFrame(model.itemFactors.rdd)"
   ]
  },
  {
   "cell_type": "code",
   "execution_count": null,
   "id": "907a1592",
   "metadata": {},
   "outputs": [],
   "source": [
    "itemfactors.count()"
   ]
  },
  {
   "cell_type": "code",
   "execution_count": null,
   "id": "302b5da2",
   "metadata": {},
   "outputs": [],
   "source": [
    "itemfactors.show(50)"
   ]
  },
  {
   "cell_type": "code",
   "execution_count": null,
   "id": "c8f8abfc",
   "metadata": {},
   "outputs": [],
   "source": [
    "userfactors.count(reviews_filtered_transformed)"
   ]
  },
  {
   "cell_type": "code",
   "execution_count": null,
   "id": "9fad31c3",
   "metadata": {},
   "outputs": [],
   "source": [
    "items_frame = itemfactors.select('id','features').toPandas()\\\n",
    "                .rename(columns={\"id\": \"item_id\", \"features\": \"features\"})"
   ]
  },
  {
   "cell_type": "code",
   "execution_count": null,
   "id": "2856014b",
   "metadata": {},
   "outputs": [],
   "source": [
    "items_frame.merge()"
   ]
  },
  {
   "cell_type": "code",
   "execution_count": null,
   "id": "c57d46a9",
   "metadata": {},
   "outputs": [],
   "source": [
    "es_client = Elasticsearch('https://1054-216-165-95-130.ngrok.io')"
   ]
  },
  {
   "cell_type": "code",
   "execution_count": null,
   "id": "9e74bc03",
   "metadata": {},
   "outputs": [],
   "source": [
    "index_name = \"productlens\"\n",
    "try:\n",
    "    es_client.indices.delete(index=index_name)\n",
    "except Exception as e:\n",
    "    pass"
   ]
  },
  {
   "cell_type": "code",
   "execution_count": null,
   "id": "c2f49d36",
   "metadata": {},
   "outputs": [],
   "source": []
  },
  {
   "cell_type": "code",
   "execution_count": null,
   "id": "559fe710",
   "metadata": {},
   "outputs": [],
   "source": []
  }
 ],
 "metadata": {
  "kernelspec": {
   "display_name": "Python 3 (ipykernel)",
   "language": "python",
   "name": "python3"
  },
  "language_info": {
   "codemirror_mode": {
    "name": "ipython",
    "version": 3
   },
   "file_extension": ".py",
   "mimetype": "text/x-python",
   "name": "python",
   "nbconvert_exporter": "python",
   "pygments_lexer": "ipython3",
   "version": "3.8.13"
  }
 },
 "nbformat": 4,
 "nbformat_minor": 5
}
