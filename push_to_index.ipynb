{
 "cells": [
  {
   "cell_type": "code",
   "execution_count": null,
   "metadata": {},
   "outputs": [],
   "source": [
    "import pandas as pd\n",
    "from pyspark.sql import SparkSession, DataFrame\n",
    "from elasticsearch import Elasticsearch, helpers\n",
    "from pyspark.ml.recommendation import ALS, ALSModel\n",
    "from pyspark.sql.functions import col\n",
    "from functools import reduce\n",
    "import uuid"
   ]
  },
  {
   "cell_type": "code",
   "execution_count": null,
   "metadata": {},
   "outputs": [],
   "source": [
    "spark = SparkSession.builder.config(\"spark.submit.deployMode\",\"client\").getOrCreate()"
   ]
  },
  {
   "cell_type": "code",
   "execution_count": null,
   "metadata": {},
   "outputs": [],
   "source": [
    "model = ALSModel.load(\"/user/amm9801_nyu_edu/project/als_model_merged\")"
   ]
  },
  {
   "cell_type": "code",
   "execution_count": null,
   "metadata": {},
   "outputs": [],
   "source": [
    "itemfactors = spark.createDataFrame(model.itemFactors.rdd)"
   ]
  },
  {
   "cell_type": "code",
   "execution_count": null,
   "metadata": {},
   "outputs": [],
   "source": [
    "items_frame = itemfactors.select('id','features').toPandas()\\\n",
    "                .rename(columns={\"id\": \"asinIdx\", \"features\": \"features\"})"
   ]
  },
  {
   "cell_type": "code",
   "execution_count": null,
   "metadata": {},
   "outputs": [],
   "source": [
    "merged_reviews_filtered_transformed = spark.read.csv(\"/user/amm9801_nyu_edu/project/merged_reviews_filtered_transformed\", inferSchema=True, header=True)merged_reviews_filtered_transformed"
   ]
  },
  {
   "cell_type": "code",
   "execution_count": null,
   "metadata": {},
   "outputs": [],
   "source": [
    "review_joined_df = items_frame.join(merged_reviews_filtered_transformed, \"asinIdx\", \"inner\").select(\"asin\", \"features\")"
   ]
  },
  {
   "cell_type": "code",
   "execution_count": null,
   "metadata": {},
   "outputs": [],
   "source": [
    "spark.conf.set(\"spark.sql.caseSensitive\", \"true\")\n",
    "raw_metadata_books = spark.read.json('/user/amm9801_nyu_edu/project/meta_Books.json')\n",
    "book_metadata = raw_metadata_books.select('asin', 'title', 'description', 'brand')"
   ]
  },
  {
   "cell_type": "code",
   "execution_count": null,
   "metadata": {},
   "outputs": [],
   "source": [
    "raw_metadata_clothing = spark.read.json('/user/sg6482_nyu_edu/project/meta_Clothing_Shoes_and_Jewelry.json')\n",
    "clothing_metadata = raw_metadata_clothing.select('asin', 'title', 'description', 'brand')\n"
   ]
  },
  {
   "cell_type": "code",
   "execution_count": null,
   "metadata": {},
   "outputs": [],
   "source": [
    "raw_metadata_electronic = spark.read.json('/user/sa6142_nyu_edu/project/electronics/meta_Electronics.json')\n",
    "electronic_metadata = raw_metadata_electronic.select('asin', 'title', 'description', 'brand')\n"
   ]
  },
  {
   "cell_type": "code",
   "execution_count": null,
   "metadata": {},
   "outputs": [],
   "source": [
    "def unionAll(*dfs):\n",
    "    return reduce(DataFrame.unionAll, dfs)"
   ]
  },
  {
   "cell_type": "code",
   "execution_count": null,
   "metadata": {},
   "outputs": [],
   "source": [
    "merged_metadata = unionAll(book_metadata, clothing_metadata, electronic_metadata)"
   ]
  },
  {
   "cell_type": "code",
   "execution_count": null,
   "metadata": {},
   "outputs": [],
   "source": [
    "final_data = merged_metadata.join(review_joined_df, \"asin\", \"inner\")"
   ]
  },
  {
   "cell_type": "code",
   "execution_count": null,
   "metadata": {},
   "outputs": [],
   "source": [
    "final_data.show(5)"
   ]
  },
  {
   "cell_type": "code",
   "execution_count": null,
   "metadata": {},
   "outputs": [],
   "source": [
    "from elasticsearch import Elasticsearch"
   ]
  },
  {
   "cell_type": "code",
   "execution_count": null,
   "metadata": {},
   "outputs": [],
   "source": [
    "es_client = Elasticsearch('https://my-deployment-ccde32.es.us-east4.gcp.elastic-cloud.com', http_auth=('elastic','ibi6dHbvjbMem8xbqxMknZgA'))\n"
   ]
  },
  {
   "cell_type": "code",
   "execution_count": null,
   "metadata": {},
   "outputs": [],
   "source": [
    "index_name = \"amazon_product_index\"\n",
    "try:\n",
    "    es_client.indices.delete(index=index_name)\n",
    "except Exception as e:\n",
    "    print(e)\n",
    "index_body = {\n",
    "      'settings': {\n",
    "        'number_of_shards': 1,\n",
    "        'number_of_replicas': 0,\n",
    "        'analysis': {\n",
    "          \"filter\":{  \n",
    "            \"english_stop\":{\n",
    "              \"type\":\"stop\",\n",
    "              \"stopwords\":\"english\"\n",
    "            },\n",
    "            \"english_stemmer\":{\n",
    "              \"type\":\"stemmer\",\n",
    "              \"language\":\"english\"\n",
    "            }\n",
    "          },  \n",
    "          \"analyzer\": {\n",
    "            \"stem_english\": { \n",
    "              \"type\":\"custom\",\n",
    "              \"tokenizer\":\"standard\",\n",
    "              \"filter\":[\n",
    "                \"lowercase\",\n",
    "                \"english_stop\",\n",
    "                \"english_stemmer\"\n",
    "              ]\n",
    "            }\n",
    "        }\n",
    "      }},\n",
    "      'mappings': {\n",
    "          'properties': {\n",
    "              'asin' : {'type': 'text'},\n",
    "              'description': {\n",
    "                  'type': 'text',\n",
    "                  'analyzer': 'stem_english'\n",
    "              },\n",
    "              'title': {\n",
    "                  'type': 'text',\n",
    "                  'analyzer': 'stem_english'\n",
    "              },\n",
    "              'brand': {\n",
    "                  'type': 'text',\n",
    "                  'analyzer': 'stem_english'\n",
    "              },\n",
    "              \"profile_vector\": {\n",
    "                \"type\": \"dense_vector\",\n",
    "                \"dims\": 48\n",
    "              }\n",
    "          }\n",
    "      }\n",
    "    }\n",
    "es_client.indices.create(index=index_name,body=index_body)"
   ]
  },
  {
   "cell_type": "code",
   "execution_count": null,
   "metadata": {},
   "outputs": [],
   "source": [
    "es_dataset = [{\"_index\": index_name, \"_id\": uuid.uuid4(), \"_source\" : {\"title\": doc[1][\"title\"], \"description\": doc[1][\"description\"],\"asin\": doc[1][\"asin\"], \"brand\": doc[1][\"brand\"], \"profile_vector\": doc[1][\"features\"] }} for doc in final_data.toPandas().iterrows()]\n",
    "#bulk insert them\n",
    "helpers.bulk(es_client, es_dataset)"
   ]
  }
 ],
 "metadata": {
  "kernelspec": {
   "display_name": "Python 3.10.8 64-bit",
   "language": "python",
   "name": "python3"
  },
  "language_info": {
   "name": "python",
   "version": "3.10.8"
  },
  "orig_nbformat": 4,
  "vscode": {
   "interpreter": {
    "hash": "b0fa6594d8f4cbf19f97940f81e996739fb7646882a419484c72d19e05852a7e"
   }
  }
 },
 "nbformat": 4,
 "nbformat_minor": 2
}
